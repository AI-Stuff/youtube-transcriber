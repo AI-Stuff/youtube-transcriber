{
 "cells": [
  {
   "cell_type": "code",
   "execution_count": 38,
   "metadata": {
    "collapsed": true
   },
   "outputs": [],
   "source": [
    "### \n",
    "### Parameters:\n",
    "### \n",
    "\n",
    "# YouTube's captions URL. Grab this from the Network tab of your browser's Developer Tools\n",
    "# when you're on the desired video.\n",
    "url = \"https://www.youtube.com/api/timedtext?caps=asr&hl=en_US&sparams=asr_langs%2Ccaps%2Cv%2Cexpire&expire=1502419482&signature=B3CA1BF9A7EB3EAD9110D8C087894ADFEC2E2CB3.D46244AECFF57C406C820ED7FD593E16025DABAD&key=yttt1&asr_langs=nl%2Cpt%2Ces%2Cru%2Cen%2Cja%2Cfr%2Cde%2Cko%2Cit&v=miBs0Z9DMiI&kind=asr&lang=en&fmt=srv3\"\n",
    "# url = \"https://www.youtube.com/api/timedtext?v=0Ydp6bR5HXw&key=yttt1&caps&expire=1502420452&sparams=caps%2Cv%2Cexpire&hl=en_US&signature=782D89BA1482EFA6437CBAC0A7AA31BA0D161DD2.D3CA678974B4B82B1EDB2E55D18BCD3EF51B0479&lang=en&fmt=srv3\"\n",
    "\n",
    "# Where the transcribed text will go, should be inside \"tmp\"\n",
    "outfile = \"tmp/out.txt\""
   ]
  },
  {
   "cell_type": "code",
   "execution_count": 39,
   "metadata": {
    "collapsed": false
   },
   "outputs": [
    {
     "name": "stdout",
     "output_type": "stream",
     "text": [
      "welcome to the video tutorial on using census data in Excel I am Alexandra Barker garrison nation specialist with the Census Bureau during this tutorial you will learn about how to perform advanced analysis of census data using Excel the vast majority of time excel as it s provides you with what you need to access combined query transform visualize and otherwise play with your census data using the visualizations formulas and functions there are however our advanced tools for statistical analysis that you can turn on as Eddings you do not need to download anything you just need to turn it on doing so will give you tools for regression testing histograms ANOVA correlation and covariance exponential is moving aft asked Z test and t-test for year analysis moving averages rank in percentile summaries sampling in a more sophisticated random number generator than a standard function but going through all of these statistical functions and method it's beyond the scope of this training so I will just give you a basic idea of how it can be used with a few examples will we need both the add-on and do some basic analysis on income table downloaded from the American FactFinder so let's start the table that you see right now I downloaded through the community fax option American FactFinder it's a table that compare the medium household income by state once it's downloaded in Excel all I have to remember is to always format as stable so when you click here you can always format as stable and you'll be able to unlock great features in Excel to enable now the add-in we're gonna click on file then we're gonna go to options and choose Eddings if you do not see the analysis toolpak you can always go to manage Eddings and click go and then you can check their nails is 2-pack and ok so now when you click in data you'll see that now available for you we will first look at descriptive statistics which describe the main features of a data set they are the basic statistics you would generally want to start with even if you are doing more sophisticated analysis of data descriptive statistics provide for example information about the central tendency variability and overall shape of your data in just a few clicks first select your income table next from the data tab clicking data analysis select descriptive statistics and click OK you need to select an input range and for this example we want it to be all the income from the column medium household income make sure it's grouped by column for your output options you want it to be a new worksheet and I'm naming it descriptive stats important to check summary statistics after you do this click OK you will now have a new tab called descriptive stats again these are useful for your first glance and the data to initiate your statistical analysis now if you want to tell the number of occurrences of a value or a range in a data set your best option is to use the histogram chart you may recall from school that sometimes letter grades will distribute in odd boundaries chances are good that your teacher use a histogram to determine those letter grade boundaries and the number of scores that fell in the range in this case we are going to look at how medium income data is distributed we'll create a column of beans where we want the data to fit so somewhere in this spreadsheet we need to enter in separate rows on a column the bean numbers so let's do that let's go back to the income table and create a beam in our ranges will be 40,000 50,000 60,000 and my last one will be 70,000 I'm just making up these ranges just for this example now let's go back to the data tab and click on the data analysis tool we're gonna choose the histogram here in the bottom and then click OK let's select income data for the input range now let's select our being range now I have to select some empty space on the spreadsheet for the output range now let's click the chart output box right here on the bottom and don't forget his option and just click OK so what you see now is a histogram they were just creating using the data and now this tool so now let's move on to sampling the data analysis tool make it super simple to get samples from a population although this is a very small amount of data within 51 data points you can imagine if you are doing research on a data set with hundreds thousands tens of thousands of data points getting a random sample from such a large data set it's not that easy so even though this is a preview example it is good to know how it's done so let's go to the data nettle this tool lets choose sampling and click OK our equal range it's just gonna be the income again I want to random simple so let's indicate the number of samples and for that will be 5 and then you have to select an output range so I need 5 spaces for my output man I need to select 5 different cells then click OK now you have your simple with no complex formula no macros and no repetitive operations required this concludes our overview and how to conduct advanced analysis of census data in Excel for more video tutorials visit census.gov and subscribe to our YouTube channel and don't forget to follow us on social media thank you\n"
     ]
    }
   ],
   "source": [
    "###\n",
    "### Don't touch anything below\n",
    "###\n",
    "\n",
    "import urllib2\n",
    "import xml.etree.ElementTree as ET\n",
    "import os\n",
    "\n",
    "# grab the XML file at that URL\n",
    "handle = urllib2.urlopen(url)\n",
    "contents = handle.read()\n",
    "    \n",
    "# parse XML\n",
    "root = ET.fromstring(contents)\n",
    "# root = tree.getroot()\n",
    "\n",
    "def clean_text(text):\n",
    "    return text.strip().replace(\"\\n\", \" \")\n",
    "\n",
    "running_words = []\n",
    "body = root.find(\"body\")\n",
    "for p in body.findall(\"p\"):\n",
    "    if p.text is None or p.text == \"\\n\":\n",
    "        # nothing here, go to the <s> inside \n",
    "        words = [clean_text(s.text) for s in p.findall(\"s\")]\n",
    "    else:\n",
    "        # p.text is an actual word/string! \n",
    "        words = [clean_text(p.text)]\n",
    "    running_words.extend(words)\n",
    "    \n",
    "final_text = \" \".join(running_words)\n",
    "    \n",
    "# make folder\n",
    "if not os.path.exists(\"tmp\"):\n",
    "    os.makedirs(\"tmp\")\n",
    "    \n",
    "with open(outfile, 'w') as f:\n",
    "    f.write(final_text.encode('utf-8'))\n",
    "    \n",
    "print final_text"
   ]
  },
  {
   "cell_type": "code",
   "execution_count": null,
   "metadata": {
    "collapsed": false,
    "scrolled": true
   },
   "outputs": [],
   "source": []
  },
  {
   "cell_type": "code",
   "execution_count": null,
   "metadata": {
    "collapsed": true
   },
   "outputs": [],
   "source": []
  }
 ],
 "metadata": {
  "anaconda-cloud": {},
  "kernelspec": {
   "display_name": "Python [default]",
   "language": "python",
   "name": "python2"
  },
  "language_info": {
   "codemirror_mode": {
    "name": "ipython",
    "version": 2
   },
   "file_extension": ".py",
   "mimetype": "text/x-python",
   "name": "python",
   "nbconvert_exporter": "python",
   "pygments_lexer": "ipython2",
   "version": "2.7.12"
  }
 },
 "nbformat": 4,
 "nbformat_minor": 2
}

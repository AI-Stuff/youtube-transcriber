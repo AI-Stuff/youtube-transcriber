{
 "cells": [
  {
   "cell_type": "code",
   "execution_count": 5,
   "metadata": {
    "collapsed": true
   },
   "outputs": [],
   "source": [
    "### \n",
    "### Parameters:\n",
    "### \n",
    "\n",
    "# YouTube's captions URL. Grab this from the Network tab of your browser's Developer Tools\n",
    "# when you're on the desired video.\n",
    "# url = \"https://www.youtube.com/api/timedtext?caps=asr&hl=en_US&sparams=asr_langs%2Ccaps%2Cv%2Cexpire&expire=1502419482&signature=B3CA1BF9A7EB3EAD9110D8C087894ADFEC2E2CB3.D46244AECFF57C406C820ED7FD593E16025DABAD&key=yttt1&asr_langs=nl%2Cpt%2Ces%2Cru%2Cen%2Cja%2Cfr%2Cde%2Cko%2Cit&v=miBs0Z9DMiI&kind=asr&lang=en&fmt=srv3\"\n",
    "url = \"https://www.youtube.com/api/timedtext?v=0Ydp6bR5HXw&key=yttt1&caps&expire=1502420452&sparams=caps%2Cv%2Cexpire&hl=en_US&signature=782D89BA1482EFA6437CBAC0A7AA31BA0D161DD2.D3CA678974B4B82B1EDB2E55D18BCD3EF51B0479&lang=en&fmt=srv3\"\n",
    "\n",
    "# Where the transcribed text will go, should be inside \"tmp\"\n",
    "# (but if another folder exists, feel free to put it in there)\n",
    "outfile = \"tmp/out.txt\""
   ]
  },
  {
   "cell_type": "code",
   "execution_count": 6,
   "metadata": {
    "collapsed": false
   },
   "outputs": [
    {
     "name": "stdout",
     "output_type": "stream",
     "text": [
      "When you grow up you, tend to get told that the world is the way it is and your life is just to live your life inside the world, try not to bash into the walls too much, try to have a nice family, have fun, save a little money. That’s a very limited life. Life can be much broader, once you discover one simple fact, and that is that everything around you that you call life was made up by people that were no smarter than you. And you can change it, you can influence it, you can build your own things that other people can use. And the minute that you understand that you can poke life and actually something will, you know if you push in, something will pop out the other side, that you can change it, you can mold it. That’s maybe the most important thing. It’s to shake off this erroneous notion that life is there and you’re just gonna live in it, versus embrace it, change it, improve it, make your mark upon it. I think that’s very important and however you learn that, once you learn it, you’ll want to change life and make it better, cause it’s kind of messed up, in a lot of ways. Once you learn that, you’ll never be the same again.”\n"
     ]
    }
   ],
   "source": [
    "###\n",
    "### Don't touch anything below\n",
    "###\n",
    "\n",
    "import os\n",
    "\n",
    "import transcribe\n",
    "\n",
    "final_text = transcribe.get_transcript(url)\n",
    "    \n",
    "# make folder\n",
    "if not os.path.exists(\"tmp\"):\n",
    "    os.makedirs(\"tmp\")\n",
    "    \n",
    "with open(outfile, 'w') as f:\n",
    "    f.write(final_text.encode('utf-8'))\n",
    "    \n",
    "print final_text"
   ]
  },
  {
   "cell_type": "code",
   "execution_count": null,
   "metadata": {
    "collapsed": false,
    "scrolled": true
   },
   "outputs": [],
   "source": []
  },
  {
   "cell_type": "code",
   "execution_count": null,
   "metadata": {
    "collapsed": true
   },
   "outputs": [],
   "source": []
  }
 ],
 "metadata": {
  "anaconda-cloud": {},
  "kernelspec": {
   "display_name": "Python [default]",
   "language": "python",
   "name": "python2"
  },
  "language_info": {
   "codemirror_mode": {
    "name": "ipython",
    "version": 2
   },
   "file_extension": ".py",
   "mimetype": "text/x-python",
   "name": "python",
   "nbconvert_exporter": "python",
   "pygments_lexer": "ipython2",
   "version": "2.7.12"
  }
 },
 "nbformat": 4,
 "nbformat_minor": 2
}

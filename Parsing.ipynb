{
 "cells": [
  {
   "cell_type": "code",
   "execution_count": 3,
   "metadata": {
    "collapsed": true
   },
   "outputs": [],
   "source": [
    "### \n",
    "### Parameters:\n",
    "### \n",
    "\n",
    "# YouTube's captions URL. Grab this from the Network tab of your browser's Developer Tools\n",
    "# when you're on the desired video.\n",
    "url = \"https://www.youtube.com/api/timedtext?expire=1502411756&hl=en_US&caps=asr&sparams=asr_langs%2Ccaps%2Cv%2Cexpire&signature=84ABDF1339E220DE067974433796D672ECAD6FA7.9808C9D3EB594A736A363C87A9B8EB4EA272847F&asr_langs=ko%2Cde%2Cpt%2Cen%2Cnl%2Cja%2Cru%2Ces%2Cfr%2Cit&key=yttt1&v=AZ-IeZZt_q8&kind=asr&lang=en&fmt=srv3\"\n",
    "\n",
    "# Where the transcribed text will go, should be inside \"tmp\"\n",
    "outfile = \"tmp/out.txt\""
   ]
  },
  {
   "cell_type": "code",
   "execution_count": 5,
   "metadata": {
    "collapsed": false
   },
   "outputs": [
    {
     "name": "stdout",
     "output_type": "stream",
     "text": [
      "welcome to the video tutorial on using census data in Excel I am Alexandra Barker data dissemination specialist with the Census Bureau during this tutorial you will learn about data access using the American FactFinder and table formatting in Excel one easy way to access data from the Census Bureau is to use the American FactFinder for short aff the american factfinder is an online self-service tool designed to search a variety of demographic social economic housing in business data after we download data from the American FactFinder we will use the Excel to manipulate the data Excel is a familiar to to many people they use it every day Excel can be leveraged to unlock the value of open data of all kinds and it's particularly well-suited transforming analyzing and visualizing census data this course will show how to use Excel to format your data now let's go to the American FactFinder so from census.gov all you have to do is click on the data menu and select data tools interrupts and just click on the American FactFinder the American FactFinder provides three ways for you to search for your data community fax gives you access to basic information along with the most popular tables about an area you can also follow the steps provided by the guided search feature in lets you narrow down to the most popular in detail tables you can use the advanced search to build a query it gives you access to all data sets and features available in the American FactFinder in all cases the data from this tool can be modified prior to being downloaded we'll start by looking at community facts to find your data when you click on community fact you are able to enter a single geography it could be a state a county a city town or zip code the United States is the default then you can click on any of the topics to see the estimates so let's say that our example today you want to see the population growth or decline in the u.s. we can click on population and then choose any object sources for population data let's choose the 2016 population estimates you have the single estimate here for the population of the US but you also have some suggest that tables related to the topic let's click on the annual population estimates right here in the bottom so now you have a view of the population estimates table for the United States we trans over time of population in the country you also have multiple years available for example when we bring into Excel let's say we want to look at data for every county not just the US for the past six years so you're gonna need to add more geographies the only way to add more geographies is now to move from the community facts into the advanced search option of the American FactFinder so let's do that by clicking in the de Vence search and I'm gonna start a brand new search if you click and continue you will import the default geography which is the US right now I'm just gonna have a brand new search here and the advanced search feature will allow me to add as many geographies as I would like to my query so we'll start by selecting the geography option once you click in geography from the list tab I can select the geographic level I want to work from in this case let's look at all counties in the US so I click in county and I don't have to select a state since I wanna hold counties in the US once I click in all counties within the US I can add them to my selections watch my shopping basket as I like to call it so now I can close the geography search and you have all the tables available for discography from the first few tables I have all the population estimates you can see the source here on the right and I'm just gonna check the annual estimates of the resident populations of people first 2010 to July 1st 2016 is exact the same table we access through community facts however now as you see I have all the geographies that I selected available not only the US so here all the counties in the US a very extensive list that we will be able to see it better in Excel so one of the many benefits of using Excel is that it can be used to easily transform your data in this case we're going to store my define our table using the census tools and then we'll put the finishing touches on the structure using Excel you can do all of this in Excel but this example shows some useful methods of cleaning up the data before you download so let's do that so you see now a table with April 2010 census data and all the yearly population estimates so let's say we only want to download the Yoli estimates excluding the April 1st 2010 columns right here so I go to modify table and it will allow you to uncheck the option census and estimate base we won't need that because we're only gonna be looking at the columns with each individual year and then you I leave all the counties alone so just a very basic modification so once you're done modifying your table you can just download it just click use the data and leave both box checked click OK and once the download is ready you get your sip sip file so I'm just gonna open and always choose the file that shows we'd annotation this is the only way you're gonna get the table all the details definitely fold it to you so it's a best practice to get in the habit of saving your file as a workbook right away so let's first do that so go to file save as find the right spot in your computer so I have my right folder here I change to Excel workbook and then just choose a title in this case I'm choosing pop estimates one Joey they had saved their son's gonna replace that file and now we can start modifying so first thing let's clean up by removing the columns and rows which we don't eat we won't need the GID so let's right away remove the Jew IDs we also won't need this row here the field name so let me delete this one as well so once you remove the unnecessary columns and rows just make sure it's all looking right you can't format to this table so let's select the range we need for our table and just click on format' a stable choose any style so I'm picking this one always check my table has headers and click OK you notice that it gives arrows next to the headers click on the arrows and you see options for storing and filtering your data this all comes with being formatted as a table this can be very useful in finding specific information for example let's say you want to find population data for Cook County so all you have to do here is just start searching and type cook but wait there are several counties would cut into your names and you just wanted the one for Cook County Illinois it would be better if the state were in its own column separate from the county that way you could filter the stage to illinois in the county to cook so let's do a very common transformation with census data so let's break up a cell into multiple cells so we start by cancel and click on the column B and just insert a brand new column what do you have to do next is just select the column that you are breaking into two different categories and you go to the data menu and select text to columns and you can set up the parameters from here so you see that you have some options for how you really want to just split up the column you can use a delimiter meaning the excel should split up the column based on a character in this case will be a common or you can use effects with which you sometimes need for data coming of a legacy system like mainframes but in this case we are delimited by the common that separates the county from the states so all I have to do now is click Next and make sure common is selected you don't have to remove tab it's really up to you but just click Next again and then click finish and then click okay and now you see that your state is no longer sharing the same column with the county name so you have two separate columns right now let's rename this column choose state now you can do things like analyzing population data change for a single state for example let's say we just want to see data for the state of Hawaii so I can go here in the state and start typing Hawaii and you see now your table is only gonna show the rows they're associated with the state of Hawaii you now have a fully functioning table yet another best practice is to name your table this will make it obvious which daddy referring to you when you do more advanced things like working with formulas and maps to name this table simply click on the design tab so here we go and change the table name this concludes our overview about census data using the American FactFinder in table format in excel for more video tutorials visit census akov and subscribe to our youtube channel and don't forget to follow us on social media thank you\n"
     ]
    }
   ],
   "source": [
    "###\n",
    "### Don't touch anything below\n",
    "###\n",
    "\n",
    "import urllib2\n",
    "import xml.etree.ElementTree as ET\n",
    "import os\n",
    "\n",
    "# grab the XML file at that URL\n",
    "handle = urllib2.urlopen(url)\n",
    "contents = handle.read()\n",
    "\n",
    "# make folder\n",
    "if not os.path.exists(\"tmp\"):\n",
    "    os.makedirs(\"tmp\")\n",
    "\n",
    "tmp_file = \"tmp/export.xml\" \n",
    "with open(tmp_file, 'w') as f:\n",
    "    f.write(contents)\n",
    "\n",
    "    \n",
    "# parse XML\n",
    "tree = ET.parse(tmp_file)\n",
    "root = tree.getroot()\n",
    "\n",
    "running_words = []\n",
    "body = root.find(\"body\")\n",
    "for p in body.findall(\"p\"):\n",
    "    words = [s.text.strip() for s in p.findall(\"s\")]\n",
    "    running_words.extend(words)\n",
    "    \n",
    "final_text = \" \".join(running_words)\n",
    "    \n",
    "with open(outfile, 'w') as f:\n",
    "    f.write(final_text)\n",
    "    \n",
    "print final_text"
   ]
  }
 ],
 "metadata": {
  "anaconda-cloud": {},
  "kernelspec": {
   "display_name": "Python [default]",
   "language": "python",
   "name": "python2"
  },
  "language_info": {
   "codemirror_mode": {
    "name": "ipython",
    "version": 2
   },
   "file_extension": ".py",
   "mimetype": "text/x-python",
   "name": "python",
   "nbconvert_exporter": "python",
   "pygments_lexer": "ipython2",
   "version": "2.7.12"
  }
 },
 "nbformat": 4,
 "nbformat_minor": 2
}

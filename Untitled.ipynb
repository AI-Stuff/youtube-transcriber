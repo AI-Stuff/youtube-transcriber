{
 "cells": [
  {
   "cell_type": "code",
   "execution_count": 45,
   "metadata": {
    "collapsed": false
   },
   "outputs": [
    {
     "name": "stdout",
     "output_type": "stream",
     "text": [
      "Done\n"
     ]
    }
   ],
   "source": [
    "# PARAMS\n",
    "url = \"https://www.youtube.com/api/timedtext?expire=1502411756&hl=en_US&caps=asr&sparams=asr_langs%2Ccaps%2Cv%2Cexpire&signature=84ABDF1339E220DE067974433796D672ECAD6FA7.9808C9D3EB594A736A363C87A9B8EB4EA272847F&asr_langs=ko%2Cde%2Cpt%2Cen%2Cnl%2Cja%2Cru%2Ces%2Cfr%2Cit&key=yttt1&v=AZ-IeZZt_q8&kind=asr&lang=en&fmt=srv3\"\n",
    "outfile = \"tmp/out.txt\"\n",
    "\n",
    "import urllib2\n",
    "import xml.etree.ElementTree as ET\n",
    "\n",
    "# grab the XML file at that URL\n",
    "handle = urllib2.urlopen(url)\n",
    "contents = handle.read()\n",
    "tmp_file = \"tmp/export.xml\" \n",
    "with open(tmp_file, 'w') as f:\n",
    "    f.write(contents)\n",
    "\n",
    "    \n",
    "# parse XML\n",
    "tree = ET.parse(tmp_file)\n",
    "root = tree.getroot()\n",
    "\n",
    "running_words = []\n",
    "for p in body.findall(\"p\"):\n",
    "    words = [s.text.strip() for s in p.findall(\"s\")]\n",
    "    running_words.extend(words)\n",
    "    \n",
    "final_text = \" \".join(running_words)\n",
    "    \n",
    "with open(outfile, 'w') as f:\n",
    "    f.write(final_text)\n",
    "    \n",
    "print \"Done\""
   ]
  },
  {
   "cell_type": "code",
   "execution_count": null,
   "metadata": {
    "collapsed": true
   },
   "outputs": [],
   "source": []
  }
 ],
 "metadata": {
  "anaconda-cloud": {},
  "kernelspec": {
   "display_name": "Python [default]",
   "language": "python",
   "name": "python2"
  },
  "language_info": {
   "codemirror_mode": {
    "name": "ipython",
    "version": 2
   },
   "file_extension": ".py",
   "mimetype": "text/x-python",
   "name": "python",
   "nbconvert_exporter": "python",
   "pygments_lexer": "ipython2",
   "version": "2.7.12"
  }
 },
 "nbformat": 4,
 "nbformat_minor": 2
}
